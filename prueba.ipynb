{
  "nbformat": 4,
  "nbformat_minor": 0,
  "metadata": {
    "colab": {
      "name": "Untitled1.ipynb",
      "provenance": [],
      "collapsed_sections": [
        "aBedDzND_2lR"
      ],
      "authorship_tag": "ABX9TyOZrDYXmDlN7nIuGh5v18WW",
      "include_colab_link": true
    },
    "kernelspec": {
      "name": "python3",
      "display_name": "Python 3"
    },
    "language_info": {
      "name": "python"
    }
  },
  "cells": [
    {
      "cell_type": "markdown",
      "metadata": {
        "id": "view-in-github",
        "colab_type": "text"
      },
      "source": [
        "<a href=\"https://colab.research.google.com/github/jgutierrezco/Prueba/blob/main/prueba.ipynb\" target=\"_parent\"><img src=\"https://colab.research.google.com/assets/colab-badge.svg\" alt=\"Open In Colab\"/></a>"
      ]
    },
    {
      "cell_type": "markdown",
      "source": [
        "## **Problema 1**\n"
      ],
      "metadata": {
        "id": "aBedDzND_2lR"
      }
    },
    {
      "cell_type": "code",
      "source": [
        "import numpy as np\n",
        "\n",
        "def divisores_propios(n):               #Función para encontrar los divisores propios de cualquier entero\n",
        "  divisoresPropios=[]\n",
        "  for i in range(1,int(n/2)+1):         #Esta iteración funciona bien en números no tan grandes, se empieza a ver demora desde las 9 cifras\n",
        "    if n%i==0:\n",
        "      divisoresPropios.append(i)\n",
        "  return divisoresPropios\n"
      ],
      "metadata": {
        "id": "6vRkJA3tWaki"
      },
      "execution_count": null,
      "outputs": []
    },
    {
      "cell_type": "code",
      "source": [
        "def categoría_num():                  #Función que determina que tipo de número es utilizando la suma de los elementos de la lista que genera la función divisores_propios\n",
        "  n=int(input())\n",
        "  dp=divisores_propios(n)\n",
        "  sumaDiv=sum(dp)\n",
        "\n",
        "  if sumaDiv==n:\n",
        "    return print(n,'es un número perfecto.')\n",
        "  elif sumaDiv>n:\n",
        "    return print(n, 'es un número abundante.')\n",
        "  elif sumaDiv<n:\n",
        "    return print(n, 'es un número defectivo')\n",
        "\n",
        "categoría_num()"
      ],
      "metadata": {
        "colab": {
          "base_uri": "https://localhost:8080/"
        },
        "id": "YUc2lvdE06om",
        "outputId": "5c970f58-2eae-4672-aea4-8e654b44bbd3"
      },
      "execution_count": null,
      "outputs": [
        {
          "output_type": "stream",
          "name": "stdout",
          "text": [
            "789456123\n",
            "789456123 es un número defectivo\n"
          ]
        }
      ]
    },
    {
      "cell_type": "markdown",
      "source": [
        "# **Problema 2**"
      ],
      "metadata": {
        "id": "0FBO9XDgACc1"
      }
    },
    {
      "cell_type": "code",
      "source": [
        "def lista_a_num(lst):                                        #Esta función transforma los digitos de una lista a un solo entero\n",
        "  numero=0\n",
        "  for k in range((-len(lst)), 0):\n",
        "    numero+=int(lst[k])*10**int((-k)-1)\n",
        "\n",
        "  return int(numero)\n",
        "\n",
        "def digitos_descendente(n):                                  #Estas dos funciones toman un entero dado, lo convierten en string, luego en lista para aprovechar\n",
        "  n=str(n)                                                   #el método de las listas sorted (que difiere de sort en que en vez de organizar la lista dada, \n",
        "  digitosn=list(n)                                           #crea una copia de la lista) y al final, con la función definida antes, se devuelve un entero cuyos\n",
        "  digitos_decreciente=sorted(digitosn,reverse=True)          #dígitos están organizados.\n",
        "\n",
        "  dd=lista_a_num(digitos_decreciente)\n",
        "  return dd\n",
        "\n",
        "def digitos_ascendentes(n):\n",
        "  n=str(n)\n",
        "  digitosn=list(n)\n",
        "  digitos_creciente = sorted(digitosn)\n",
        "\n",
        "  dc=lista_a_num(digitos_creciente)\n",
        "  return dc\n",
        "\n",
        "\n",
        "def cons_kaprekar():                                                                           #Esta función realiza las operaciones para llegar a la constante\n",
        "  n=input('Ingrese un número de 4 dígitos: ')                                                  #imprime las restas realizadas y al final, el número de\n",
        "  iteraciones=0                                                                                #iteraciones necesarias.\n",
        "  resultado_resta=digitos_descendente(n)-digitos_ascendentes(n)\n",
        "  print(digitos_descendente(n), '-', digitos_ascendentes(n), '=', resultado_resta)\n",
        "  while resultado_resta!=6174:\n",
        "    resultado_resta=digitos_descendente(resultado_resta)-digitos_ascendentes(resultado_resta)\n",
        "    iteraciones+=1\n",
        "    print(digitos_descendente(resultado_resta), '-', digitos_ascendentes(resultado_resta), '=', resultado_resta)\n",
        "  return print('Desde este número se necesitan', iteraciones, 'iteraciones para llegar a la constante de Kaprekar')\n",
        "\n",
        "cons_kaprekar()\n"
      ],
      "metadata": {
        "colab": {
          "base_uri": "https://localhost:8080/"
        },
        "id": "JsIGHPv-AImc",
        "outputId": "a5a05d99-e6c0-4511-f79d-7f2d85eb79eb"
      },
      "execution_count": null,
      "outputs": [
        {
          "output_type": "stream",
          "name": "stdout",
          "text": [
            "Ingrese un número de 4 dígitos 9242\n",
            "9422 - 2249 = 7173\n",
            "6543 - 3456 = 6354\n",
            "8730 - 378 = 3087\n",
            "8532 - 2358 = 8352\n",
            "7641 - 1467 = 6174\n",
            "Desde este número se necesitan 4 iteraciones para llegar a la constante de Kaprekar\n"
          ]
        }
      ]
    },
    {
      "cell_type": "markdown",
      "source": [
        "# **Problema 3**"
      ],
      "metadata": {
        "id": "hpdnteoGgLzJ"
      }
    },
    {
      "cell_type": "code",
      "source": [
        "def funcion5(l):\n",
        "  x = []\n",
        "  for a in l:\n",
        "    if a not in x:\n",
        "      x.append(a)\n",
        "  return x\n",
        "\n",
        "\n",
        "#La funcion5 sirve para crear una lista con los elementos de un conjunto dado, se puede utilizar para pasar de un tupla o un diccionario a una lista."
      ],
      "metadata": {
        "colab": {
          "base_uri": "https://localhost:8080/"
        },
        "id": "ryqB3OwugQEy",
        "outputId": "b54c07a5-081f-4e60-e925-78ec393cd999"
      },
      "execution_count": null,
      "outputs": [
        {
          "output_type": "execute_result",
          "data": {
            "text/plain": [
              "['upa', 5, 7.6]"
            ]
          },
          "metadata": {},
          "execution_count": 21
        }
      ]
    },
    {
      "cell_type": "markdown",
      "source": [
        "# **Problema 4**"
      ],
      "metadata": {
        "id": "qHFWONMqiUSD"
      }
    },
    {
      "cell_type": "code",
      "source": [
        "vendidos = [\"Espresso\", \"Espresso\", \"Latte\",\"Cappuccino\", \"Mocha\", \"Espresso\", \"Latte\"]\n",
        "\n",
        "\n",
        "def contar_vendidos(lista, item=\"Espresso\"):\n",
        "       n = lista.count(item)\n",
        "       print(\"{} {}s vendidos.\".format(n, item))\n",
        "\n",
        "contar_vendidos(vendidos)\n",
        "\n",
        "#Así como está, con base en la lista dada de cada ítem vendido devuelve cuantos 'Espresso' se vendieron. No deja variar el argumento de 'item'."
      ],
      "metadata": {
        "colab": {
          "base_uri": "https://localhost:8080/"
        },
        "id": "VbRAKQ2jiZZW",
        "outputId": "7bbfcd2d-c27c-48fd-c889-501fb9685e01"
      },
      "execution_count": null,
      "outputs": [
        {
          "output_type": "stream",
          "name": "stdout",
          "text": [
            "3 Espressos vendidos.\n"
          ]
        }
      ]
    },
    {
      "cell_type": "markdown",
      "source": [
        "# **Problema 5**"
      ],
      "metadata": {
        "id": "FSGdH2VDpfDT"
      }
    },
    {
      "cell_type": "code",
      "source": [
        "'''Tener un análisis predeterminado para el 1 y el 2 es ventajoso y ahorra algunas iteraciones del bucle 'for' pero a medida que el número aumenta el número\n",
        "de iteraciones crece demasiado y el código se hace más lento'''"
      ],
      "metadata": {
        "id": "aiEHOGL5pkYX"
      },
      "execution_count": null,
      "outputs": []
    },
    {
      "cell_type": "markdown",
      "source": [
        "# **Problema 6**"
      ],
      "metadata": {
        "id": "Y2bdke4m3ETZ"
      }
    },
    {
      "cell_type": "code",
      "source": [
        "def fila_pascal():\n",
        "  f=[]                              # Se va a presentar la información en forma de lista. \n",
        "  f.append(1)                       # Cada fila tiene un 1 al principio.\n",
        "  n=int(input())\n",
        "  \n",
        "  if n==0:                         \n",
        "    \n",
        "    return f\n",
        "\n",
        "  else:\n",
        "\n",
        "    for k in range(1,n+1):                        # Desde esta iteración se generan las filas y se actualiza la información de la fila anterior a n.\n",
        "      f_anterior=list(f) \n",
        "      print(f)                         # Definir la fila anterior para determinar la nueva.\n",
        "      for h in range(1,k):                        # Esta iteración añade los elementos a la fila desde la lista de la fila anterior.\n",
        "        f[h]=(f_anterior[h-1]+f_anterior[h])\n",
        "      f.append(1)                                 # Al final de la fila siempre hay un uno y esto hace que aumente de dimensión en 1.\n",
        "    return print(f)                               # La función devuelve la lista.\n",
        "\n",
        "fila_pascal()"
      ],
      "metadata": {
        "colab": {
          "base_uri": "https://localhost:8080/"
        },
        "id": "K3ONZ_783Kzl",
        "outputId": "a4e99aa7-40b5-4198-bcb7-8510bc0051d0"
      },
      "execution_count": 4,
      "outputs": [
        {
          "output_type": "stream",
          "name": "stdout",
          "text": [
            "10\n",
            "[1]\n",
            "[1, 1]\n",
            "[1, 2, 1]\n",
            "[1, 3, 3, 1]\n",
            "[1, 4, 6, 4, 1]\n",
            "[1, 5, 10, 10, 5, 1]\n",
            "[1, 6, 15, 20, 15, 6, 1]\n",
            "[1, 7, 21, 35, 35, 21, 7, 1]\n",
            "[1, 8, 28, 56, 70, 56, 28, 8, 1]\n",
            "[1, 9, 36, 84, 126, 126, 84, 36, 9, 1]\n",
            "[1, 10, 45, 120, 210, 252, 210, 120, 45, 10, 1]\n"
          ]
        }
      ]
    },
    {
      "cell_type": "code",
      "source": [
        ""
      ],
      "metadata": {
        "id": "BhtAowJzTyJF"
      },
      "execution_count": null,
      "outputs": []
    }
  ]
}